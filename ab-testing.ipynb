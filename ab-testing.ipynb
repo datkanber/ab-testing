{
 "cells": [
  {
   "cell_type": "markdown",
   "id": "be14303c",
   "metadata": {
    "_cell_guid": "d7c0397b-f434-461e-89e4-8f582ef802e8",
    "_uuid": "87fc1daa-d564-42cf-895c-f82d2aae21db",
    "papermill": {
     "duration": 0.033085,
     "end_time": "2024-07-04T20:30:03.664508",
     "exception": false,
     "start_time": "2024-07-04T20:30:03.631423",
     "status": "completed"
    },
    "tags": []
   },
   "source": [
    "<h2 style='background:#11489c; border:0; color:white'><center>A/B Testing</center></h2>\n",
    "\n",
    "* A/B testing a landing page is a very powerful way to get many more conversions out of already existing campaigns, as the test gives you the data you need to make the most of your budget, which increases your overall returns\n",
    "\n",
    "* Businesses are happy they are getting traffic, but at the same time, they are unhappy they’re unable to convert that traffic into customers. Every business struggles with unqualified leads, be it B2B, E-commerce, media and publishing, etc.\n",
    "\n",
    "* These conversion metrics are always affected by some very common problems, such as issues in the conversion funnel, drops-offs on payment pages, or other common issues\n",
    "\n",
    "* The data from the test lets you know what words, phrases, image, videos and other such elements on the landing page work best. These may be minor changes but they can create a major improvement in the conversion rate\n",
    "\n",
    "<a href=\"https://ibb.co/ZBpR4jN\"><img src=\"https://i.ibb.co/6H7c9MN/AB-Test-Example.png\" alt=\"AB-Test-Example\" border=\"0\"></a>\n",
    "\n",
    "* Comparing Two Group Means (Independent Two-Sample T-Test)\n",
    "* Parametric Comparison\n",
    "* Nonparametric Comparison\n",
    "* Two Group Ratio Comparison (Two Sample Ratio Test)\n",
    "* Mean Comparison of More than Two Groups (ANOVA)\n",
    "\n",
    "\n",
    "<h2 style='background:#11489c; border:0; color:white'><center>Sections</center></h2>\n",
    "\n",
    "1. [Set up the Hypothesis](#1)\n",
    "2. [Assumption Check](#2)\n",
    "    * 2.1 [Normality Assumption](#2.1)\n",
    "    * 2.2 [Variance Homogeneity](#2.2)\n",
    "3. [Implementation of the Hypothesis](#3)\n",
    "    * HO red if p-value < 0.05\n",
    "    * Independent two-sample t-test (parametric test) if assumptions are met\n",
    "    * Mannwhitneyu test if assumptions are not provided (non-parametric test)\n",
    "\n",
    "\n",
    "<h2 style='background:#11489c; border:0; color:white'><center>Note</center></h2>\n",
    "    \n",
    "   * Number 2 directly if normality is not achieved. If variance homogeneity is not provided, an argument is entered for number 1\n",
    "   * It can be useful to perform outlier analysis and correction before normality analysis\n",
    "\n",
    "\n",
    "<h2 style='background:#11489c; border:0; color:white'><center>About the Dataset</center></h2>\n",
    "\n",
    "* Impression – Ad views\n",
    "* Click – Click\n",
    "* Indicates the number of clicks on the displayed ad.\n",
    "* Variables\n",
    "* Purchase – Purchase\n",
    "* Indicates the number of products purchased after the ads clicked.\n",
    "* Earning – Earning\n",
    "* Boiler obtained after purchased products"
   ]
  },
  {
   "cell_type": "code",
   "execution_count": 1,
   "id": "14299968",
   "metadata": {
    "_cell_guid": "d1c02adf-306b-4cf1-8926-f8b9e090247b",
    "_kg_hide-input": true,
    "_uuid": "5ea06086-8fa7-4758-9a35-b80b47cf5a3c",
    "collapsed": false,
    "execution": {
     "iopub.execute_input": "2024-07-04T20:30:03.736052Z",
     "iopub.status.busy": "2024-07-04T20:30:03.730790Z",
     "iopub.status.idle": "2024-07-04T20:30:04.922239Z",
     "shell.execute_reply": "2024-07-04T20:30:04.921027Z",
     "shell.execute_reply.started": "2021-12-06T13:32:01.998716Z"
    },
    "jupyter": {
     "outputs_hidden": false
    },
    "papermill": {
     "duration": 1.2274,
     "end_time": "2024-07-04T20:30:04.922448",
     "exception": false,
     "start_time": "2024-07-04T20:30:03.695048",
     "status": "completed"
    },
    "tags": []
   },
   "outputs": [],
   "source": [
    "import itertools\n",
    "import numpy as np\n",
    "import pandas as pd\n",
    "import matplotlib.pyplot as plt\n",
    "import seaborn as sns\n",
    "import statsmodels.stats.api as sms\n",
    "from scipy.stats import \\\n",
    "    ttest_1samp, \\\n",
    "    shapiro, \\\n",
    "    levene, \\\n",
    "    ttest_ind, \\\n",
    "    mannwhitneyu, \\\n",
    "    pearsonr, \\\n",
    "    spearmanr, \\\n",
    "    kendalltau, \\\n",
    "    f_oneway, \\\n",
    "    kruskal\n",
    "from statsmodels.stats.proportion import proportions_ztest\n",
    "pd.set_option('display.max_columns', None)\n",
    "pd.set_option('display.max_rows', 10)\n",
    "pd.set_option('display.float_format', lambda x: '%.5f' % x)"
   ]
  },
  {
   "cell_type": "code",
   "execution_count": 2,
   "id": "f088d357",
   "metadata": {
    "_cell_guid": "c3460ef9-01be-4f4c-8677-021720f6eccc",
    "_uuid": "3985624e-2cd1-4b31-9305-4363d88fad2e",
    "collapsed": false,
    "execution": {
     "iopub.execute_input": "2024-07-04T20:30:04.985347Z",
     "iopub.status.busy": "2024-07-04T20:30:04.984359Z",
     "iopub.status.idle": "2024-07-04T20:30:15.891766Z",
     "shell.execute_reply": "2024-07-04T20:30:15.892337Z",
     "shell.execute_reply.started": "2021-12-06T13:32:02.006918Z"
    },
    "jupyter": {
     "outputs_hidden": false
    },
    "papermill": {
     "duration": 10.941088,
     "end_time": "2024-07-04T20:30:15.892546",
     "exception": false,
     "start_time": "2024-07-04T20:30:04.951458",
     "status": "completed"
    },
    "tags": []
   },
   "outputs": [
    {
     "name": "stdout",
     "output_type": "stream",
     "text": [
      "Collecting openpyxl\r\n",
      "  Downloading openpyxl-3.1.3-py2.py3-none-any.whl (251 kB)\r\n",
      "     |████████████████████████████████| 251 kB 3.5 MB/s            \r\n",
      "\u001b[?25hCollecting et-xmlfile\r\n",
      "  Downloading et_xmlfile-1.1.0-py3-none-any.whl (4.7 kB)\r\n",
      "Installing collected packages: et-xmlfile, openpyxl\r\n",
      "Successfully installed et-xmlfile-1.1.0 openpyxl-3.1.3\r\n",
      "\u001b[33mWARNING: Running pip as the 'root' user can result in broken permissions and conflicting behaviour with the system package manager. It is recommended to use a virtual environment instead: https://pip.pypa.io/warnings/venv\u001b[0m\r\n"
     ]
    }
   ],
   "source": [
    "!pip install openpyxl"
   ]
  },
  {
   "cell_type": "code",
   "execution_count": 3,
   "id": "6cc712b6",
   "metadata": {
    "_cell_guid": "ad36feaa-5703-465c-b305-2957e75283ac",
    "_kg_hide-input": false,
    "_uuid": "b175126a-9bb4-43e4-b2d4-2032e1751349",
    "collapsed": false,
    "execution": {
     "iopub.execute_input": "2024-07-04T20:30:15.960994Z",
     "iopub.status.busy": "2024-07-04T20:30:15.960255Z",
     "iopub.status.idle": "2024-07-04T20:30:16.188658Z",
     "shell.execute_reply": "2024-07-04T20:30:16.187926Z",
     "shell.execute_reply.started": "2021-12-06T13:32:09.046729Z"
    },
    "jupyter": {
     "outputs_hidden": false
    },
    "papermill": {
     "duration": 0.266306,
     "end_time": "2024-07-04T20:30:16.188818",
     "exception": false,
     "start_time": "2024-07-04T20:30:15.922512",
     "status": "completed"
    },
    "tags": []
   },
   "outputs": [],
   "source": [
    "data_control = pd.read_excel(\"../input/ab-testing/ab_testing.xlsx\", sheet_name=\"Control Group\")\n",
    "data_test = pd.read_excel(\"../input/ab-testing/ab_testing.xlsx\", sheet_name=\"Test Group\")"
   ]
  },
  {
   "cell_type": "code",
   "execution_count": 4,
   "id": "b93347ae",
   "metadata": {
    "_cell_guid": "7c1714c4-baf1-4856-8147-4f387d98f4cd",
    "_uuid": "0664f261-5cd7-4075-b2b6-73b081e6ad62",
    "collapsed": false,
    "execution": {
     "iopub.execute_input": "2024-07-04T20:30:16.270142Z",
     "iopub.status.busy": "2024-07-04T20:30:16.265806Z",
     "iopub.status.idle": "2024-07-04T20:30:16.282942Z",
     "shell.execute_reply": "2024-07-04T20:30:16.283467Z",
     "shell.execute_reply.started": "2021-12-06T13:32:09.089439Z"
    },
    "jupyter": {
     "outputs_hidden": false
    },
    "papermill": {
     "duration": 0.06498,
     "end_time": "2024-07-04T20:30:16.283670",
     "exception": false,
     "start_time": "2024-07-04T20:30:16.218690",
     "status": "completed"
    },
    "tags": []
   },
   "outputs": [
    {
     "data": {
      "text/plain": [
       "Index(['Impression', 'Click', 'Purchase', 'Earning'], dtype='object')"
      ]
     },
     "execution_count": 4,
     "metadata": {},
     "output_type": "execute_result"
    }
   ],
   "source": [
    "data_control.head()\n",
    "data_control.describe()\n",
    "data_control.columns"
   ]
  },
  {
   "cell_type": "code",
   "execution_count": 5,
   "id": "19c80713",
   "metadata": {
    "_cell_guid": "3988cc7a-c179-4ed5-af73-7b7817f96ee1",
    "_uuid": "9e5651b0-d556-4d1a-815b-bda05d1d022d",
    "collapsed": false,
    "execution": {
     "iopub.execute_input": "2024-07-04T20:30:16.351222Z",
     "iopub.status.busy": "2024-07-04T20:30:16.350481Z",
     "iopub.status.idle": "2024-07-04T20:30:16.360944Z",
     "shell.execute_reply": "2024-07-04T20:30:16.361427Z",
     "shell.execute_reply.started": "2021-12-06T13:32:09.121754Z"
    },
    "jupyter": {
     "outputs_hidden": false
    },
    "papermill": {
     "duration": 0.047646,
     "end_time": "2024-07-04T20:30:16.361657",
     "exception": false,
     "start_time": "2024-07-04T20:30:16.314011",
     "status": "completed"
    },
    "scrolled": true,
    "tags": []
   },
   "outputs": [
    {
     "data": {
      "text/html": [
       "<div>\n",
       "<style scoped>\n",
       "    .dataframe tbody tr th:only-of-type {\n",
       "        vertical-align: middle;\n",
       "    }\n",
       "\n",
       "    .dataframe tbody tr th {\n",
       "        vertical-align: top;\n",
       "    }\n",
       "\n",
       "    .dataframe thead th {\n",
       "        text-align: right;\n",
       "    }\n",
       "</style>\n",
       "<table border=\"1\" class=\"dataframe\">\n",
       "  <thead>\n",
       "    <tr style=\"text-align: right;\">\n",
       "      <th></th>\n",
       "      <th>Impression</th>\n",
       "      <th>Click</th>\n",
       "      <th>Purchase</th>\n",
       "      <th>Earning</th>\n",
       "    </tr>\n",
       "  </thead>\n",
       "  <tbody>\n",
       "    <tr>\n",
       "      <th>0</th>\n",
       "      <td>82529.45927</td>\n",
       "      <td>6090.07732</td>\n",
       "      <td>665.21125</td>\n",
       "      <td>2311.27714</td>\n",
       "    </tr>\n",
       "    <tr>\n",
       "      <th>1</th>\n",
       "      <td>98050.45193</td>\n",
       "      <td>3382.86179</td>\n",
       "      <td>315.08489</td>\n",
       "      <td>1742.80686</td>\n",
       "    </tr>\n",
       "    <tr>\n",
       "      <th>2</th>\n",
       "      <td>82696.02355</td>\n",
       "      <td>4167.96575</td>\n",
       "      <td>458.08374</td>\n",
       "      <td>1797.82745</td>\n",
       "    </tr>\n",
       "    <tr>\n",
       "      <th>3</th>\n",
       "      <td>109914.40040</td>\n",
       "      <td>4910.88224</td>\n",
       "      <td>487.09077</td>\n",
       "      <td>1696.22918</td>\n",
       "    </tr>\n",
       "    <tr>\n",
       "      <th>4</th>\n",
       "      <td>108457.76263</td>\n",
       "      <td>5987.65581</td>\n",
       "      <td>441.03405</td>\n",
       "      <td>1543.72018</td>\n",
       "    </tr>\n",
       "  </tbody>\n",
       "</table>\n",
       "</div>"
      ],
      "text/plain": [
       "    Impression      Click  Purchase    Earning\n",
       "0  82529.45927 6090.07732 665.21125 2311.27714\n",
       "1  98050.45193 3382.86179 315.08489 1742.80686\n",
       "2  82696.02355 4167.96575 458.08374 1797.82745\n",
       "3 109914.40040 4910.88224 487.09077 1696.22918\n",
       "4 108457.76263 5987.65581 441.03405 1543.72018"
      ]
     },
     "execution_count": 5,
     "metadata": {},
     "output_type": "execute_result"
    }
   ],
   "source": [
    "data_control = data_control[['Impression', 'Click', 'Purchase', 'Earning']]\n",
    "data_control.head()"
   ]
  },
  {
   "cell_type": "code",
   "execution_count": 6,
   "id": "8cbe0ef3",
   "metadata": {
    "_cell_guid": "510ed973-db35-45db-8914-94909cf3505f",
    "_uuid": "dd641f61-aee9-4282-a614-e10a4c4eaa30",
    "collapsed": false,
    "execution": {
     "iopub.execute_input": "2024-07-04T20:30:16.434105Z",
     "iopub.status.busy": "2024-07-04T20:30:16.433182Z",
     "iopub.status.idle": "2024-07-04T20:30:16.437414Z",
     "shell.execute_reply": "2024-07-04T20:30:16.436888Z",
     "shell.execute_reply.started": "2021-12-06T13:32:09.138003Z"
    },
    "jupyter": {
     "outputs_hidden": false
    },
    "papermill": {
     "duration": 0.043732,
     "end_time": "2024-07-04T20:30:16.437604",
     "exception": false,
     "start_time": "2024-07-04T20:30:16.393872",
     "status": "completed"
    },
    "scrolled": true,
    "tags": []
   },
   "outputs": [
    {
     "data": {
      "text/html": [
       "<div>\n",
       "<style scoped>\n",
       "    .dataframe tbody tr th:only-of-type {\n",
       "        vertical-align: middle;\n",
       "    }\n",
       "\n",
       "    .dataframe tbody tr th {\n",
       "        vertical-align: top;\n",
       "    }\n",
       "\n",
       "    .dataframe thead th {\n",
       "        text-align: right;\n",
       "    }\n",
       "</style>\n",
       "<table border=\"1\" class=\"dataframe\">\n",
       "  <thead>\n",
       "    <tr style=\"text-align: right;\">\n",
       "      <th></th>\n",
       "      <th>Impression</th>\n",
       "      <th>Click</th>\n",
       "      <th>Purchase</th>\n",
       "      <th>Earning</th>\n",
       "    </tr>\n",
       "  </thead>\n",
       "  <tbody>\n",
       "    <tr>\n",
       "      <th>0</th>\n",
       "      <td>120103.50380</td>\n",
       "      <td>3216.54796</td>\n",
       "      <td>702.16035</td>\n",
       "      <td>1939.61124</td>\n",
       "    </tr>\n",
       "    <tr>\n",
       "      <th>1</th>\n",
       "      <td>134775.94336</td>\n",
       "      <td>3635.08242</td>\n",
       "      <td>834.05429</td>\n",
       "      <td>2929.40582</td>\n",
       "    </tr>\n",
       "    <tr>\n",
       "      <th>2</th>\n",
       "      <td>107806.62079</td>\n",
       "      <td>3057.14356</td>\n",
       "      <td>422.93426</td>\n",
       "      <td>2526.24488</td>\n",
       "    </tr>\n",
       "    <tr>\n",
       "      <th>3</th>\n",
       "      <td>116445.27553</td>\n",
       "      <td>4650.47391</td>\n",
       "      <td>429.03353</td>\n",
       "      <td>2281.42857</td>\n",
       "    </tr>\n",
       "    <tr>\n",
       "      <th>4</th>\n",
       "      <td>145082.51684</td>\n",
       "      <td>5201.38772</td>\n",
       "      <td>749.86044</td>\n",
       "      <td>2781.69752</td>\n",
       "    </tr>\n",
       "  </tbody>\n",
       "</table>\n",
       "</div>"
      ],
      "text/plain": [
       "    Impression      Click  Purchase    Earning\n",
       "0 120103.50380 3216.54796 702.16035 1939.61124\n",
       "1 134775.94336 3635.08242 834.05429 2929.40582\n",
       "2 107806.62079 3057.14356 422.93426 2526.24488\n",
       "3 116445.27553 4650.47391 429.03353 2281.42857\n",
       "4 145082.51684 5201.38772 749.86044 2781.69752"
      ]
     },
     "execution_count": 6,
     "metadata": {},
     "output_type": "execute_result"
    }
   ],
   "source": [
    "data_test.head()"
   ]
  },
  {
   "cell_type": "code",
   "execution_count": 7,
   "id": "34ba8e2b",
   "metadata": {
    "_cell_guid": "0c0370a1-b512-4443-9ec0-6b27e317b38b",
    "_uuid": "e6c99346-1411-40fe-9140-4a283aef2366",
    "collapsed": false,
    "execution": {
     "iopub.execute_input": "2024-07-04T20:30:16.510276Z",
     "iopub.status.busy": "2024-07-04T20:30:16.509383Z",
     "iopub.status.idle": "2024-07-04T20:30:16.512734Z",
     "shell.execute_reply": "2024-07-04T20:30:16.513265Z",
     "shell.execute_reply.started": "2021-12-06T13:32:09.147778Z"
    },
    "jupyter": {
     "outputs_hidden": false
    },
    "papermill": {
     "duration": 0.045167,
     "end_time": "2024-07-04T20:30:16.513451",
     "exception": false,
     "start_time": "2024-07-04T20:30:16.468284",
     "status": "completed"
    },
    "tags": []
   },
   "outputs": [
    {
     "data": {
      "text/html": [
       "<div>\n",
       "<style scoped>\n",
       "    .dataframe tbody tr th:only-of-type {\n",
       "        vertical-align: middle;\n",
       "    }\n",
       "\n",
       "    .dataframe tbody tr th {\n",
       "        vertical-align: top;\n",
       "    }\n",
       "\n",
       "    .dataframe thead th {\n",
       "        text-align: right;\n",
       "    }\n",
       "</style>\n",
       "<table border=\"1\" class=\"dataframe\">\n",
       "  <thead>\n",
       "    <tr style=\"text-align: right;\">\n",
       "      <th></th>\n",
       "      <th>Impression</th>\n",
       "      <th>Click</th>\n",
       "      <th>Purchase</th>\n",
       "      <th>Earning</th>\n",
       "    </tr>\n",
       "  </thead>\n",
       "  <tbody>\n",
       "    <tr>\n",
       "      <th>0</th>\n",
       "      <td>120103.50380</td>\n",
       "      <td>3216.54796</td>\n",
       "      <td>702.16035</td>\n",
       "      <td>1939.61124</td>\n",
       "    </tr>\n",
       "    <tr>\n",
       "      <th>1</th>\n",
       "      <td>134775.94336</td>\n",
       "      <td>3635.08242</td>\n",
       "      <td>834.05429</td>\n",
       "      <td>2929.40582</td>\n",
       "    </tr>\n",
       "    <tr>\n",
       "      <th>2</th>\n",
       "      <td>107806.62079</td>\n",
       "      <td>3057.14356</td>\n",
       "      <td>422.93426</td>\n",
       "      <td>2526.24488</td>\n",
       "    </tr>\n",
       "    <tr>\n",
       "      <th>3</th>\n",
       "      <td>116445.27553</td>\n",
       "      <td>4650.47391</td>\n",
       "      <td>429.03353</td>\n",
       "      <td>2281.42857</td>\n",
       "    </tr>\n",
       "    <tr>\n",
       "      <th>4</th>\n",
       "      <td>145082.51684</td>\n",
       "      <td>5201.38772</td>\n",
       "      <td>749.86044</td>\n",
       "      <td>2781.69752</td>\n",
       "    </tr>\n",
       "  </tbody>\n",
       "</table>\n",
       "</div>"
      ],
      "text/plain": [
       "    Impression      Click  Purchase    Earning\n",
       "0 120103.50380 3216.54796 702.16035 1939.61124\n",
       "1 134775.94336 3635.08242 834.05429 2929.40582\n",
       "2 107806.62079 3057.14356 422.93426 2526.24488\n",
       "3 116445.27553 4650.47391 429.03353 2281.42857\n",
       "4 145082.51684 5201.38772 749.86044 2781.69752"
      ]
     },
     "execution_count": 7,
     "metadata": {},
     "output_type": "execute_result"
    }
   ],
   "source": [
    "data_test = data_test[['Impression', 'Click', 'Purchase', 'Earning']]\n",
    "data_test.head()"
   ]
  },
  {
   "cell_type": "markdown",
   "id": "274d26c6",
   "metadata": {
    "_cell_guid": "bf5659bd-58e5-41b0-8257-cdff615779cd",
    "_uuid": "87b9b6c4-d99d-4ed7-9c66-04d64c7d41c2",
    "papermill": {
     "duration": 0.030586,
     "end_time": "2024-07-04T20:30:16.576418",
     "exception": false,
     "start_time": "2024-07-04T20:30:16.545832",
     "status": "completed"
    },
    "tags": []
   },
   "source": [
    "<a id = \"1\"></a><br>\n",
    "#### 1. Set up the Hypothesis\n",
    "\n",
    "- There is no statistically significant difference between the return of\n",
    "- H0: \"Average bidding\" and the return of \"maximum bidding\"\n",
    "- H1: There is a difference"
   ]
  },
  {
   "cell_type": "code",
   "execution_count": 8,
   "id": "86e9ffed",
   "metadata": {
    "_cell_guid": "dad77d9b-ca34-4cb4-a6bd-8f31c7193a64",
    "_uuid": "08aff5c1-172f-4ffa-bb29-5ae851c7d22e",
    "collapsed": false,
    "execution": {
     "iopub.execute_input": "2024-07-04T20:30:16.652044Z",
     "iopub.status.busy": "2024-07-04T20:30:16.649915Z",
     "iopub.status.idle": "2024-07-04T20:30:16.656166Z",
     "shell.execute_reply": "2024-07-04T20:30:16.655472Z",
     "shell.execute_reply.started": "2021-12-06T13:32:09.162697Z"
    },
    "jupyter": {
     "outputs_hidden": false
    },
    "papermill": {
     "duration": 0.049139,
     "end_time": "2024-07-04T20:30:16.656322",
     "exception": false,
     "start_time": "2024-07-04T20:30:16.607183",
     "status": "completed"
    },
    "tags": []
   },
   "outputs": [
    {
     "data": {
      "text/plain": [
       "582.1060966484675"
      ]
     },
     "execution_count": 8,
     "metadata": {},
     "output_type": "execute_result"
    }
   ],
   "source": [
    "data_control.groupby(\"Click\")['Purchase'].mean() #Before\n",
    "data_test.groupby(\"Click\")['Purchase'].mean() #The next tried method also increased, but did it increase by chance?\n",
    "data_control[\"Purchase\"].mean() #550.894058\n",
    "data_test[\"Purchase\"].mean() #582.106096 an increase is observed"
   ]
  },
  {
   "cell_type": "markdown",
   "id": "b5414654",
   "metadata": {
    "_cell_guid": "072a36f7-1ca8-48cd-b83e-687250c30bbf",
    "_uuid": "c649f2ee-a680-407e-9e40-13b18085edcb",
    "papermill": {
     "duration": 0.030558,
     "end_time": "2024-07-04T20:30:16.718252",
     "exception": false,
     "start_time": "2024-07-04T20:30:16.687694",
     "status": "completed"
    },
    "tags": []
   },
   "source": [
    "<a id = \"2\"></a><br>\n",
    "#### 2. Assumption Check\n",
    "    \n",
    "- H0: Assumption of normal distribution is provided.\n",
    "- H1: not provided."
   ]
  },
  {
   "cell_type": "markdown",
   "id": "7e05311e",
   "metadata": {
    "_cell_guid": "0b2cfa62-2c66-4772-9f5f-5cacce41c936",
    "_uuid": "296134aa-ca96-4448-a3be-f00a1f84077a",
    "papermill": {
     "duration": 0.030886,
     "end_time": "2024-07-04T20:30:16.780768",
     "exception": false,
     "start_time": "2024-07-04T20:30:16.749882",
     "status": "completed"
    },
    "tags": []
   },
   "source": [
    " <a id = \"2.1\"></a><br>\n",
    " #### 2.1. Normality Assumption"
   ]
  },
  {
   "cell_type": "code",
   "execution_count": 9,
   "id": "a10e0687",
   "metadata": {
    "_cell_guid": "cf0fefe5-a648-4909-ba1c-2785e99f3cfc",
    "_uuid": "4cb5e464-43c1-45f4-8dd1-a0a18ae9727a",
    "collapsed": false,
    "execution": {
     "iopub.execute_input": "2024-07-04T20:30:16.850308Z",
     "iopub.status.busy": "2024-07-04T20:30:16.849611Z",
     "iopub.status.idle": "2024-07-04T20:30:16.852238Z",
     "shell.execute_reply": "2024-07-04T20:30:16.852793Z",
     "shell.execute_reply.started": "2021-12-06T13:32:09.178473Z"
    },
    "jupyter": {
     "outputs_hidden": false
    },
    "papermill": {
     "duration": 0.040263,
     "end_time": "2024-07-04T20:30:16.852976",
     "exception": false,
     "start_time": "2024-07-04T20:30:16.812713",
     "status": "completed"
    },
    "tags": []
   },
   "outputs": [
    {
     "name": "stdout",
     "output_type": "stream",
     "text": [
      "Test Stat = 0.9773, p-value = 0.5891\n"
     ]
    }
   ],
   "source": [
    "test_stat, pvalue = shapiro(data_control['Purchase'])\n",
    "print('Test Stat = %.4f, p-value = %.4f' % (test_stat, pvalue))\n",
    "# P-Value = 0.5891\n",
    "# test_stat = 0.9773\n",
    "# H0 cannot be rejected\n",
    "# Normal Distribution"
   ]
  },
  {
   "cell_type": "code",
   "execution_count": 10,
   "id": "9115cc8d",
   "metadata": {
    "_cell_guid": "277f786a-d9f2-471f-8205-f89af7135819",
    "_uuid": "65856282-bd53-4205-80f3-6f99fc622cc3",
    "collapsed": false,
    "execution": {
     "iopub.execute_input": "2024-07-04T20:30:16.921998Z",
     "iopub.status.busy": "2024-07-04T20:30:16.921070Z",
     "iopub.status.idle": "2024-07-04T20:30:16.924351Z",
     "shell.execute_reply": "2024-07-04T20:30:16.924922Z",
     "shell.execute_reply.started": "2021-12-06T13:32:09.194907Z"
    },
    "jupyter": {
     "outputs_hidden": false
    },
    "papermill": {
     "duration": 0.040755,
     "end_time": "2024-07-04T20:30:16.925110",
     "exception": false,
     "start_time": "2024-07-04T20:30:16.884355",
     "status": "completed"
    },
    "tags": []
   },
   "outputs": [
    {
     "name": "stdout",
     "output_type": "stream",
     "text": [
      "Test Stat = 0.9589, p-value = 0.1541\n"
     ]
    }
   ],
   "source": [
    "test_stat, pvalue = shapiro(data_test['Purchase'])\n",
    "print('Test Stat = %.4f, p-value = %.4f' % (test_stat, pvalue))\n",
    "# P-Value = 0.1541\n",
    "# test_stat = 0.9589\n",
    "# H0 cannot be denied\n",
    "# Normal Distribution"
   ]
  },
  {
   "cell_type": "markdown",
   "id": "cb2ea1b8",
   "metadata": {
    "_cell_guid": "7554fd70-2637-41e0-a9e9-6244f230ddb5",
    "_uuid": "fe97b585-4276-4880-89ac-31b42e4e96c2",
    "papermill": {
     "duration": 0.031125,
     "end_time": "2024-07-04T20:30:16.989171",
     "exception": false,
     "start_time": "2024-07-04T20:30:16.958046",
     "status": "completed"
    },
    "tags": []
   },
   "source": [
    " <a id = \"2.2\"></a><br>\n",
    " #### 2.2 Variance Homogeneity\n",
    " \n",
    "- H0: Variances are Homogeneous\n",
    "- H1: Variances Are Not Homogeneous"
   ]
  },
  {
   "cell_type": "code",
   "execution_count": 11,
   "id": "79fcf0d2",
   "metadata": {
    "_cell_guid": "2039fdc2-b11a-430b-a5d6-d74166db0a3e",
    "_uuid": "537ce0be-4597-49d6-8723-d46ad79eb1b6",
    "collapsed": false,
    "execution": {
     "iopub.execute_input": "2024-07-04T20:30:17.060367Z",
     "iopub.status.busy": "2024-07-04T20:30:17.059427Z",
     "iopub.status.idle": "2024-07-04T20:30:17.062472Z",
     "shell.execute_reply": "2024-07-04T20:30:17.063013Z",
     "shell.execute_reply.started": "2021-12-06T13:32:09.206439Z"
    },
    "jupyter": {
     "outputs_hidden": false
    },
    "papermill": {
     "duration": 0.042629,
     "end_time": "2024-07-04T20:30:17.063199",
     "exception": false,
     "start_time": "2024-07-04T20:30:17.020570",
     "status": "completed"
    },
    "tags": []
   },
   "outputs": [
    {
     "name": "stdout",
     "output_type": "stream",
     "text": [
      "Test Stat = 2.6393, p-value = 0.1083\n"
     ]
    }
   ],
   "source": [
    "test_stat, pvalue = levene(data_control[\"Purchase\"],data_test[\"Purchase\"])\n",
    "print('Test Stat = %.4f, p-value = %.4f' % (test_stat, pvalue))\n",
    "# P-Value = 0.1083\n",
    "# test_stat = 2.6393\n",
    "# H0 cannot be denied\n",
    "# Variances are also homogeneous\n",
    "# Independent two-sample t-test (parametric test) if assumptions are met"
   ]
  },
  {
   "cell_type": "code",
   "execution_count": 12,
   "id": "bd5f6f3c",
   "metadata": {
    "_cell_guid": "a8ecc23b-12f0-4c6f-aa65-1c89d05ca5d7",
    "_uuid": "27970ff4-24fd-4afe-afb9-2f02b641b21c",
    "collapsed": false,
    "execution": {
     "iopub.execute_input": "2024-07-04T20:30:17.137253Z",
     "iopub.status.busy": "2024-07-04T20:30:17.136300Z",
     "iopub.status.idle": "2024-07-04T20:30:17.139546Z",
     "shell.execute_reply": "2024-07-04T20:30:17.140068Z",
     "shell.execute_reply.started": "2021-12-06T13:32:09.220126Z"
    },
    "jupyter": {
     "outputs_hidden": false
    },
    "papermill": {
     "duration": 0.042459,
     "end_time": "2024-07-04T20:30:17.140250",
     "exception": false,
     "start_time": "2024-07-04T20:30:17.097791",
     "status": "completed"
    },
    "tags": []
   },
   "outputs": [
    {
     "name": "stdout",
     "output_type": "stream",
     "text": [
      "Test Stat = -0.9416, p-value = 0.3493\n"
     ]
    }
   ],
   "source": [
    "test_stat, pvalue = ttest_ind(data_control[\"Purchase\"],data_test[\"Purchase\"],\n",
    "                              equal_var=True)\n",
    "print('Test Stat = %.4f, p-value = %.4f' % (test_stat, pvalue))\n",
    "# P-Value = 0.3493\n",
    "# test_star = -0.9416\n",
    "# H0 cannot be denied\n",
    "# There is no statistically significant difference between the two."
   ]
  },
  {
   "cell_type": "code",
   "execution_count": 13,
   "id": "49c029d7",
   "metadata": {
    "_cell_guid": "ba87b0bb-8522-44ec-875c-6846fa62189f",
    "_uuid": "33d44c87-4f0f-4e2e-83dc-599279e76eb3",
    "collapsed": false,
    "execution": {
     "iopub.execute_input": "2024-07-04T20:30:17.214417Z",
     "iopub.status.busy": "2024-07-04T20:30:17.213484Z",
     "iopub.status.idle": "2024-07-04T20:30:17.216712Z",
     "shell.execute_reply": "2024-07-04T20:30:17.217217Z",
     "shell.execute_reply.started": "2021-12-06T13:32:09.229576Z"
    },
    "jupyter": {
     "outputs_hidden": false
    },
    "papermill": {
     "duration": 0.044536,
     "end_time": "2024-07-04T20:30:17.217410",
     "exception": false,
     "start_time": "2024-07-04T20:30:17.172874",
     "status": "completed"
    },
    "tags": []
   },
   "outputs": [
    {
     "name": "stdout",
     "output_type": "stream",
     "text": [
      "Test Stat = 2.6393, p-value = 0.1083\n"
     ]
    }
   ],
   "source": [
    "test_stat, pvalue = levene(data_control.groupby(\"Impression\")['Purchase'].mean()\n",
    "                           ,data_test.groupby(\"Impression\")['Purchase'].mean())\n",
    "print('Test Stat = %.4f, p-value = %.4f' % (test_stat, pvalue))\n",
    "# P-Value = 0.1083\n",
    "# test_stat = 2.6393"
   ]
  },
  {
   "cell_type": "code",
   "execution_count": 14,
   "id": "11e76944",
   "metadata": {
    "_cell_guid": "302e5513-f138-4109-863c-dd97a3d0960c",
    "_uuid": "77daf7e2-875c-404a-bf6f-6f1ae6b01e76",
    "collapsed": false,
    "execution": {
     "iopub.execute_input": "2024-07-04T20:30:17.292560Z",
     "iopub.status.busy": "2024-07-04T20:30:17.291636Z",
     "iopub.status.idle": "2024-07-04T20:30:17.294872Z",
     "shell.execute_reply": "2024-07-04T20:30:17.295390Z",
     "shell.execute_reply.started": "2021-12-06T13:32:09.245076Z"
    },
    "jupyter": {
     "outputs_hidden": false
    },
    "papermill": {
     "duration": 0.044829,
     "end_time": "2024-07-04T20:30:17.295602",
     "exception": false,
     "start_time": "2024-07-04T20:30:17.250773",
     "status": "completed"
    },
    "tags": []
   },
   "outputs": [
    {
     "name": "stdout",
     "output_type": "stream",
     "text": [
      "Test Stat = -0.9416, p-value = 0.3493\n"
     ]
    }
   ],
   "source": [
    "test_stat, pvalue = ttest_ind(data_control.groupby(\"Impression\")['Purchase'].mean(),\n",
    "                              data_test.groupby(\"Impression\")['Purchase'].mean(),\n",
    "                              equal_var=True)\n",
    "print('Test Stat = %.4f, p-value = %.4f' % (test_stat, pvalue))\n",
    "# P-Value = 0.3493\n",
    "# test_stat = -0.9416\n",
    "# H0 There is no irrefutable difference."
   ]
  },
  {
   "cell_type": "markdown",
   "id": "5b44e9dc",
   "metadata": {
    "_cell_guid": "c346803b-c5bb-4e31-9292-260fc6d04b4b",
    "_uuid": "b1b9d613-9758-401a-8529-fd0a3ce3eec7",
    "papermill": {
     "duration": 0.033189,
     "end_time": "2024-07-04T20:30:17.363381",
     "exception": false,
     "start_time": "2024-07-04T20:30:17.330192",
     "status": "completed"
    },
    "tags": []
   },
   "source": [
    "#### Task 3\n",
    "    \n",
    "    - Which test did you use? \n",
    "    - Indicate the reasons...\n",
    "\n",
    "##### I used parametric hypothesis testing since variance homogeneity and normality assumption were provided.\n",
    "\n",
    "#### Task 4\n",
    "    \n",
    "    - I recommend maximum bidding as there is no statistically significant difference between them\n",
    "    - The old way is better.\n",
    "    - Let's try it to be sure"
   ]
  },
  {
   "cell_type": "code",
   "execution_count": 15,
   "id": "c95ae42f",
   "metadata": {
    "_cell_guid": "c36814c8-e904-44dd-97ad-fef637f5f328",
    "_uuid": "4fce5300-3d6b-4886-bbf1-98edea039804",
    "collapsed": false,
    "execution": {
     "iopub.execute_input": "2024-07-04T20:30:17.438922Z",
     "iopub.status.busy": "2024-07-04T20:30:17.438026Z",
     "iopub.status.idle": "2024-07-04T20:30:17.442193Z",
     "shell.execute_reply": "2024-07-04T20:30:17.441644Z",
     "shell.execute_reply.started": "2021-12-06T13:32:09.266452Z"
    },
    "jupyter": {
     "outputs_hidden": false
    },
    "papermill": {
     "duration": 0.045898,
     "end_time": "2024-07-04T20:30:17.442344",
     "exception": false,
     "start_time": "2024-07-04T20:30:17.396446",
     "status": "completed"
    },
    "tags": []
   },
   "outputs": [
    {
     "data": {
      "text/plain": [
       "23284.243865938704"
      ]
     },
     "execution_count": 15,
     "metadata": {},
     "output_type": "execute_result"
    }
   ],
   "source": [
    "data_control.groupby(\"Impression\")['Purchase'].mean().sum() #Before 22035.762350\n",
    "data_test.groupby(\"Impression\")['Purchase'].mean().sum() #After 23284.243865\n",
    "# H0: No difference\n",
    "# H1: There is a difference"
   ]
  },
  {
   "cell_type": "code",
   "execution_count": 16,
   "id": "5072d585",
   "metadata": {
    "_cell_guid": "b681b453-85fa-4637-9a3e-98ac9c7c5170",
    "_uuid": "34c3bdc8-b630-4254-a265-fc740b490d54",
    "collapsed": false,
    "execution": {
     "iopub.execute_input": "2024-07-04T20:30:17.516310Z",
     "iopub.status.busy": "2024-07-04T20:30:17.515346Z",
     "iopub.status.idle": "2024-07-04T20:30:17.518587Z",
     "shell.execute_reply": "2024-07-04T20:30:17.519098Z",
     "shell.execute_reply.started": "2021-12-06T13:32:09.27626Z"
    },
    "jupyter": {
     "outputs_hidden": false
    },
    "papermill": {
     "duration": 0.043533,
     "end_time": "2024-07-04T20:30:17.519290",
     "exception": false,
     "start_time": "2024-07-04T20:30:17.475757",
     "status": "completed"
    },
    "tags": []
   },
   "outputs": [
    {
     "name": "stdout",
     "output_type": "stream",
     "text": [
      "Test Stat = 0.9773, p-value = 0.5891\n"
     ]
    }
   ],
   "source": [
    "test_stat, pvalue = shapiro(data_control.groupby(\"Impression\")['Purchase'].mean())\n",
    "print('Test Stat = %.4f, p-value = %.4f' % (test_stat, pvalue))\n",
    "# P-Value = 0.5891\n",
    "# test_stat = 0.9773\n",
    "# H0 cannot be rejected\n",
    "# Normal distribution"
   ]
  },
  {
   "cell_type": "code",
   "execution_count": 17,
   "id": "5f3c794f",
   "metadata": {
    "_cell_guid": "313fc194-a045-403d-81d6-8e5f628e2cd0",
    "_uuid": "03219e44-465e-4c4d-b460-7780971b272d",
    "collapsed": false,
    "execution": {
     "iopub.execute_input": "2024-07-04T20:30:17.597413Z",
     "iopub.status.busy": "2024-07-04T20:30:17.596328Z",
     "iopub.status.idle": "2024-07-04T20:30:17.599643Z",
     "shell.execute_reply": "2024-07-04T20:30:17.600148Z",
     "shell.execute_reply.started": "2021-12-06T13:32:09.288782Z"
    },
    "jupyter": {
     "outputs_hidden": false
    },
    "papermill": {
     "duration": 0.045323,
     "end_time": "2024-07-04T20:30:17.600336",
     "exception": false,
     "start_time": "2024-07-04T20:30:17.555013",
     "status": "completed"
    },
    "tags": []
   },
   "outputs": [
    {
     "name": "stdout",
     "output_type": "stream",
     "text": [
      "Test Stat = 0.9589, p-value = 0.1541\n"
     ]
    }
   ],
   "source": [
    "test_stat, pvalue = shapiro(data_test.groupby(\"Impression\")['Purchase'].mean())\n",
    "print('Test Stat = %.4f, p-value = %.4f' % (test_stat, pvalue))\n",
    "# P-Value = 0.1541\n",
    "# test_stat = 0.9589\n",
    "# H0 cannot be denied\n",
    "# Normal distribution"
   ]
  },
  {
   "cell_type": "code",
   "execution_count": 18,
   "id": "16bf4f63",
   "metadata": {
    "_cell_guid": "78bf6a76-6efc-47f1-9bf4-cafe87988e3a",
    "_uuid": "034817b4-1e4b-4ab7-8c0f-435d5eee21a4",
    "collapsed": false,
    "execution": {
     "iopub.execute_input": "2024-07-04T20:30:17.675090Z",
     "iopub.status.busy": "2024-07-04T20:30:17.674227Z",
     "iopub.status.idle": "2024-07-04T20:30:17.677276Z",
     "shell.execute_reply": "2024-07-04T20:30:17.676729Z",
     "shell.execute_reply.started": "2021-12-06T13:32:09.302305Z"
    },
    "jupyter": {
     "outputs_hidden": false
    },
    "papermill": {
     "duration": 0.043282,
     "end_time": "2024-07-04T20:30:17.677426",
     "exception": false,
     "start_time": "2024-07-04T20:30:17.634144",
     "status": "completed"
    },
    "tags": []
   },
   "outputs": [],
   "source": [
    "def pvalue_plot(col, equal_var = True):\n",
    "    pvalue_plot_list = []\n",
    "    for i in range(1, len(data_control[col].values)):\n",
    "        test_stat, pvalue = ttest_ind(data_control.loc[:i, col], data_test.loc[:i, col], equal_var=equal_var)\n",
    "        pvalue_plot_list.append(pvalue)\n",
    "    plt.plot(pvalue_plot_list)\n",
    "    plt.ylabel(\"P-Value\")\n",
    "    plt.xlabel(\"Count\")\n",
    "    plt.show()"
   ]
  },
  {
   "cell_type": "code",
   "execution_count": 19,
   "id": "34c1879b",
   "metadata": {
    "_cell_guid": "81916d5d-250f-4317-9823-42811bd91fd0",
    "_uuid": "dd574bdd-7e84-4d5b-acec-e2ec5e8bfca7",
    "collapsed": false,
    "execution": {
     "iopub.execute_input": "2024-07-04T20:30:17.750586Z",
     "iopub.status.busy": "2024-07-04T20:30:17.749722Z",
     "iopub.status.idle": "2024-07-04T20:30:17.752467Z",
     "shell.execute_reply": "2024-07-04T20:30:17.751917Z",
     "shell.execute_reply.started": "2021-12-06T13:32:09.315011Z"
    },
    "jupyter": {
     "outputs_hidden": false
    },
    "papermill": {
     "duration": 0.041292,
     "end_time": "2024-07-04T20:30:17.752644",
     "exception": false,
     "start_time": "2024-07-04T20:30:17.711352",
     "status": "completed"
    },
    "tags": []
   },
   "outputs": [],
   "source": [
    "plt.show(block=True) \n",
    "#A code I use in pycharm to be able to print graphs on top of each other"
   ]
  },
  {
   "cell_type": "markdown",
   "id": "2466a97c",
   "metadata": {
    "_cell_guid": "2f5c79a2-2fc6-4762-aa32-79dc85a8e993",
    "_uuid": "551a4432-d6df-4f0d-b712-185bbcf8c205",
    "papermill": {
     "duration": 0.033818,
     "end_time": "2024-07-04T20:30:17.821490",
     "exception": false,
     "start_time": "2024-07-04T20:30:17.787672",
     "status": "completed"
    },
    "tags": []
   },
   "source": [
    "#### Purchase  \n",
    "\n",
    "- It is similar to an EU-tested data.\n",
    "- After the 30th data, an increase is observed.\n",
    "- P-value up to the 30th has a fluctuating graph. \n",
    "- We can infer that it may be less than 0.05.\n",
    "- There is no statistically significant difference between Maximum Bidding and Average Bidding."
   ]
  },
  {
   "cell_type": "code",
   "execution_count": 20,
   "id": "29c61529",
   "metadata": {
    "_cell_guid": "fa8e1352-6b6f-4f02-b0aa-437d1762f76d",
    "_uuid": "ba727399-0a48-47af-90f4-ebb715f9d54a",
    "collapsed": false,
    "execution": {
     "iopub.execute_input": "2024-07-04T20:30:17.925676Z",
     "iopub.status.busy": "2024-07-04T20:30:17.924925Z",
     "iopub.status.idle": "2024-07-04T20:30:18.145963Z",
     "shell.execute_reply": "2024-07-04T20:30:18.145216Z",
     "shell.execute_reply.started": "2021-12-06T13:32:09.325127Z"
    },
    "jupyter": {
     "outputs_hidden": false
    },
    "papermill": {
     "duration": 0.290658,
     "end_time": "2024-07-04T20:30:18.146117",
     "exception": false,
     "start_time": "2024-07-04T20:30:17.855459",
     "status": "completed"
    },
    "tags": []
   },
   "outputs": [
    {
     "data": {
      "image/png": "[encoded data removed]",
      "text/plain": [
       "<Figure size 432x288 with 1 Axes>"
      ]
     },
     "metadata": {
      "needs_background": "light"
     },
     "output_type": "display_data"
    }
   ],
   "source": [
    "pvalue_plot(col=\"Purchase\", equal_var=True)"
   ]
  },
  {
   "cell_type": "markdown",
   "id": "51eb743a",
   "metadata": {
    "_cell_guid": "ce4e4c68-0bdd-4c82-b277-3098239ea428",
    "_uuid": "7c761409-2ccc-417f-8f16-2008972c3aef",
    "papermill": {
     "duration": 0.034859,
     "end_time": "2024-07-04T20:30:18.216884",
     "exception": false,
     "start_time": "2024-07-04T20:30:18.182025",
     "status": "completed"
    },
    "tags": []
   },
   "source": [
    "#### Impressions \n",
    "- plot H0 hypothesis is always rejected, there is a difference"
   ]
  },
  {
   "cell_type": "code",
   "execution_count": 21,
   "id": "106b6103",
   "metadata": {
    "_cell_guid": "7cd0a491-d1ef-4ef6-b083-86fc5fada900",
    "_uuid": "0949cb47-3980-4d14-8aab-bd0406fe2773",
    "collapsed": false,
    "execution": {
     "iopub.execute_input": "2024-07-04T20:30:18.367409Z",
     "iopub.status.busy": "2024-07-04T20:30:18.349682Z",
     "iopub.status.idle": "2024-07-04T20:30:18.507104Z",
     "shell.execute_reply": "2024-07-04T20:30:18.506405Z",
     "shell.execute_reply.started": "2021-12-06T13:32:09.57188Z"
    },
    "jupyter": {
     "outputs_hidden": false
    },
    "papermill": {
     "duration": 0.25528,
     "end_time": "2024-07-04T20:30:18.507267",
     "exception": false,
     "start_time": "2024-07-04T20:30:18.251987",
     "status": "completed"
    },
    "tags": []
   },
   "outputs": [
    {
     "data": {
      "image/png": "[encoded data removed]",
      "text/plain": [
       "<Figure size 432x288 with 1 Axes>"
      ]
     },
     "metadata": {
      "needs_background": "light"
     },
     "output_type": "display_data"
    }
   ],
   "source": [
    "pvalue_plot(col=\"Impression\", equal_var=True)"
   ]
  },
  {
   "cell_type": "markdown",
   "id": "6c13f907",
   "metadata": {
    "_cell_guid": "27688eb6-43b6-4288-aaf8-96f9c773f0be",
    "_uuid": "cc032ea3-5505-47f0-8ff8-1fe7d5b827d7",
    "papermill": {
     "duration": 0.036171,
     "end_time": "2024-07-04T20:30:18.579793",
     "exception": false,
     "start_time": "2024-07-04T20:30:18.543622",
     "status": "completed"
    },
    "tags": []
   },
   "source": [
    "#### Click \n",
    "- After 12, H0 started to reject the hypothesis. There is a difference."
   ]
  },
  {
   "cell_type": "code",
   "execution_count": 22,
   "id": "e210fbf0",
   "metadata": {
    "_cell_guid": "9d9f4b72-2073-49f5-bd7c-8e33cc8d85f4",
    "_uuid": "e653ff8a-8683-475f-8b84-ad55136694db",
    "collapsed": false,
    "execution": {
     "iopub.execute_input": "2024-07-04T20:30:18.729938Z",
     "iopub.status.busy": "2024-07-04T20:30:18.679955Z",
     "iopub.status.idle": "2024-07-04T20:30:18.862069Z",
     "shell.execute_reply": "2024-07-04T20:30:18.862618Z",
     "shell.execute_reply.started": "2021-12-06T13:32:09.787401Z"
    },
    "jupyter": {
     "outputs_hidden": false
    },
    "papermill": {
     "duration": 0.247067,
     "end_time": "2024-07-04T20:30:18.862811",
     "exception": false,
     "start_time": "2024-07-04T20:30:18.615744",
     "status": "completed"
    },
    "scrolled": true,
    "tags": []
   },
   "outputs": [
    {
     "data": {
      "image/png": "[encoded data removed]",
      "text/plain": [
       "<Figure size 432x288 with 1 Axes>"
      ]
     },
     "metadata": {
      "needs_background": "light"
     },
     "output_type": "display_data"
    }
   ],
   "source": [
    "pvalue_plot(col=\"Click\", equal_var=False)"
   ]
  },
  {
   "cell_type": "markdown",
   "id": "dbeda1ca",
   "metadata": {
    "_cell_guid": "0455d10f-dfe2-451b-89f4-cfce211dfae1",
    "_uuid": "51c221f1-b20c-42d5-a6ba-6cddb5444dbd",
    "papermill": {
     "duration": 0.036661,
     "end_time": "2024-07-04T20:30:18.935844",
     "exception": false,
     "start_time": "2024-07-04T20:30:18.899183",
     "status": "completed"
    },
    "tags": []
   },
   "source": [
    "#### Earning \n",
    "- After 3, H0 is rejected. There is difference."
   ]
  },
  {
   "cell_type": "code",
   "execution_count": 23,
   "id": "f82d80b3",
   "metadata": {
    "_cell_guid": "0e056734-8d7e-46ea-8cca-04ae3f9e1486",
    "_uuid": "1b8be042-83cd-4a5b-9d2f-57386cc48e91",
    "collapsed": false,
    "execution": {
     "iopub.execute_input": "2024-07-04T20:30:19.088125Z",
     "iopub.status.busy": "2024-07-04T20:30:19.074546Z",
     "iopub.status.idle": "2024-07-04T20:30:19.223319Z",
     "shell.execute_reply": "2024-07-04T20:30:19.222776Z",
     "shell.execute_reply.started": "2021-12-06T13:32:09.996194Z"
    },
    "jupyter": {
     "outputs_hidden": false
    },
    "papermill": {
     "duration": 0.25045,
     "end_time": "2024-07-04T20:30:19.223476",
     "exception": false,
     "start_time": "2024-07-04T20:30:18.973026",
     "status": "completed"
    },
    "scrolled": true,
    "tags": []
   },
   "outputs": [
    {
     "data": {
      "image/png": "[encoded data removed]",
      "text/plain": [
       "<Figure size 432x288 with 1 Axes>"
      ]
     },
     "metadata": {
      "needs_background": "light"
     },
     "output_type": "display_data"
    }
   ],
   "source": [
    "pvalue_plot(col=\"Earning\", equal_var=True)"
   ]
  },
  {
   "cell_type": "markdown",
   "id": "2aa352af",
   "metadata": {
    "_cell_guid": "c24ae20e-a2a2-472c-9a7f-49e267d0e161",
    "_uuid": "36ecd1ee-73ec-4528-9c7f-019ff2d871fe",
    "papermill": {
     "duration": 0.03728,
     "end_time": "2024-07-04T20:30:19.298729",
     "exception": false,
     "start_time": "2024-07-04T20:30:19.261449",
     "status": "completed"
    },
    "tags": []
   },
   "source": [
    "#### What is the (equal_var = True) argument?\n",
    "- Equal variances assumed\n",
    "- Equal variances not assumed"
   ]
  },
  {
   "cell_type": "code",
   "execution_count": 24,
   "id": "cbe6b220",
   "metadata": {
    "_cell_guid": "104a2126-aa02-4310-8004-6f7fb34e7c5a",
    "_uuid": "a1628214-e6bd-4eba-946b-049177a68509",
    "collapsed": false,
    "execution": {
     "iopub.execute_input": "2024-07-04T20:30:19.384958Z",
     "iopub.status.busy": "2024-07-04T20:30:19.384200Z",
     "iopub.status.idle": "2024-07-04T20:30:19.386789Z",
     "shell.execute_reply": "2024-07-04T20:30:19.387348Z",
     "shell.execute_reply.started": "2021-12-06T13:32:10.193004Z"
    },
    "jupyter": {
     "outputs_hidden": false
    },
    "papermill": {
     "duration": 0.051329,
     "end_time": "2024-07-04T20:30:19.387551",
     "exception": false,
     "start_time": "2024-07-04T20:30:19.336222",
     "status": "completed"
    },
    "tags": []
   },
   "outputs": [],
   "source": [
    "def statistics_(dataframe1,dataframe2,transaction1,transaction2):\n",
    "    p=0.05\n",
    "    test_stat, pvalue1 = shapiro(dataframe1[transaction1])\n",
    "    test_stat, pvalue2 = shapiro(dataframe2[transaction2])\n",
    "    test_stat, pvalue3 = levene(dataframe1[transaction1], dataframe2[transaction2])\n",
    "    if pvalue1>p and pvalue2>p and pvalue3>p:\n",
    "        test_stat, pvalue4 = ttest_ind(dataframe1[transaction1], dataframe2[transaction2],equal_var=True)\n",
    "        print(f\"P-Value:{pvalue4}\")\n",
    "        if pvalue4 > p:\n",
    "            print(f\"{pvalue4} This number {p}'is greater than\")\n",
    "        else:\n",
    "            print(f\"{pvalue4} This number {p}'is greater than\")\n",
    "    elif pvalue1>p and pvalue2>p and pvalue3<p:\n",
    "        test_stat, pvalue4 = ttest_ind(dataframe1[transaction1], dataframe2[transaction2], equal_var=False)\n",
    "        print(f\"P-Value:{pvalue4}\")\n",
    "        if pvalue4 > p:\n",
    "            print(f\"{pvalue4} This number {p}'is greater than\")\n",
    "        else:\n",
    "            print(f\"{pvalue4} This number {p}'is less than\")\n",
    "    elif (pvalue1>p and pvalue2<p) or (pvalue1<p and pvalue2>p) or (pvalue1<p and pvalue2<p):\n",
    "        test_stat, pvalue = mannwhitneyu(dataframe1[transaction1],\n",
    "                                         dataframe2[transaction2])\n",
    "        print(f\"P-Value:{pvalue}\")\n",
    "        if pvalue>p:\n",
    "            print(f\"{pvalue} This number {p}'is greater than\")\n",
    "        else:\n",
    "            print(f\"{pvalue} This number {p}'is less than\")"
   ]
  },
  {
   "cell_type": "code",
   "execution_count": 25,
   "id": "988417ef",
   "metadata": {
    "_cell_guid": "6bab444a-803c-499b-82f0-7fe28e3d2fbf",
    "_uuid": "71ccbff9-98e4-4f9f-89a8-8e5554284636",
    "collapsed": false,
    "execution": {
     "iopub.execute_input": "2024-07-04T20:30:19.469803Z",
     "iopub.status.busy": "2024-07-04T20:30:19.468809Z",
     "iopub.status.idle": "2024-07-04T20:30:19.472175Z",
     "shell.execute_reply": "2024-07-04T20:30:19.472743Z",
     "shell.execute_reply.started": "2021-12-06T13:32:10.20436Z"
    },
    "jupyter": {
     "outputs_hidden": false
    },
    "papermill": {
     "duration": 0.048151,
     "end_time": "2024-07-04T20:30:19.472932",
     "exception": false,
     "start_time": "2024-07-04T20:30:19.424781",
     "status": "completed"
    },
    "tags": []
   },
   "outputs": [
    {
     "name": "stdout",
     "output_type": "stream",
     "text": [
      "P-Value:4.954754307167222e-05\n",
      "4.954754307167222e-05 This number 0.05'is greater than\n"
     ]
    }
   ],
   "source": [
    "statistics_(data_control, data_test, \"Impression\", \"Impression\")"
   ]
  },
  {
   "cell_type": "markdown",
   "id": "a657a709",
   "metadata": {
    "_cell_guid": "50a9d758-77da-4431-a382-d35a0586ed54",
    "_uuid": "e0859629-1526-4729-9831-def798c60dce",
    "papermill": {
     "duration": 0.037329,
     "end_time": "2024-07-04T20:30:19.548002",
     "exception": false,
     "start_time": "2024-07-04T20:30:19.510673",
     "status": "completed"
    },
    "tags": []
   },
   "source": [
    "- P-Value: 4.954754 This number 0.05'is greater than.\n",
    "- There is no statistically significant difference between;\n",
    "- The \"Maximum Bidding\" campaign control group and the \"Test group\" with the \"Average Bidding\" campaign. \n",
    "- Therefore, we recommend that you continue with the campaign that gives the \"Maximum Bidding\" currently used.\n",
    "- Still, you can keep trying because ad views are increasing."
   ]
  }
 ],
 "metadata": {
  "kaggle": {
   "accelerator": "none",
   "dataSources": [
    {
     "datasetId": 1434763,
     "sourceId": 2374478,
     "sourceType": "datasetVersion"
    }
   ],
   "dockerImageVersionId": 30152,
   "isGpuEnabled": false,
   "isInternetEnabled": true,
   "language": "python",
   "sourceType": "notebook"
  },
  "kernelspec": {
   "display_name": "Python 3",
   "language": "python",
   "name": "python3"
  },
  "language_info": {
   "codemirror_mode": {
    "name": "ipython",
    "version": 3
   },
   "file_extension": ".py",
   "mimetype": "text/x-python",
   "name": "python",
   "nbconvert_exporter": "python",
   "pygments_lexer": "ipython3",
   "version": "3.7.12"
  },
  "papermill": {
   "default_parameters": {},
   "duration": 26.465374,
   "end_time": "2024-07-04T20:30:20.398017",
   "environment_variables": {},
   "exception": null,
   "input_path": "__notebook__.ipynb",
   "output_path": "__notebook__.ipynb",
   "parameters": {},
   "start_time": "2024-07-04T20:29:53.932643",
   "version": "2.3.3"
  }
 },
 "nbformat": 4,
 "nbformat_minor": 5
}
